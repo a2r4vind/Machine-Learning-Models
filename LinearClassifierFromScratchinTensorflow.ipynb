{
  "nbformat": 4,
  "nbformat_minor": 0,
  "metadata": {
    "colab": {
      "provenance": [],
      "authorship_tag": "ABX9TyOvyVGajq230lTtm/NpME83",
      "include_colab_link": true
    },
    "kernelspec": {
      "name": "python3",
      "display_name": "Python 3"
    },
    "language_info": {
      "name": "python"
    }
  },
  "cells": [
    {
      "cell_type": "markdown",
      "metadata": {
        "id": "view-in-github",
        "colab_type": "text"
      },
      "source": [
        "<a href=\"https://colab.research.google.com/github/a2r4vind/Machine-Learning-Models/blob/main/LinearClassifierFromScratchinTensorflow.ipynb\" target=\"_parent\"><img src=\"https://colab.research.google.com/assets/colab-badge.svg\" alt=\"Open In Colab\"/></a>"
      ]
    },
    {
      "cell_type": "markdown",
      "source": [
        "#Implementing a linear classifier from scratch in Tensorflow"
      ],
      "metadata": {
        "id": "YzjHvBSejRdh"
      }
    },
    {
      "cell_type": "markdown",
      "source": [
        "Generating two classes of random points in a 2D plane"
      ],
      "metadata": {
        "id": "87VXHRYgjbm3"
      }
    },
    {
      "cell_type": "code",
      "source": [
        "import numpy as np"
      ],
      "metadata": {
        "id": "aMyEzVfumarY"
      },
      "execution_count": 1,
      "outputs": []
    },
    {
      "cell_type": "code",
      "execution_count": 2,
      "metadata": {
        "id": "DJN4MNh1jQBi"
      },
      "outputs": [],
      "source": [
        "num_samples_per_class = 1000\n",
        "negative_samples = np.random.multivariate_normal(mean=[0,3], cov=[[1, 0.5],[0.5, 1]], size=num_samples_per_class)\n",
        "positive_samples = np.random.multivariate_normal(mean=[3, 0], cov=[[1, 0.5],[0.5, 1]], size=num_samples_per_class)"
      ]
    },
    {
      "cell_type": "code",
      "source": [
        "print(negative_samples.shape)\n",
        "print(positive_samples.shape)"
      ],
      "metadata": {
        "colab": {
          "base_uri": "https://localhost:8080/"
        },
        "id": "jnGcxkounrwn",
        "outputId": "05742fa4-13fa-47c1-8de5-b77302394576"
      },
      "execution_count": 4,
      "outputs": [
        {
          "output_type": "stream",
          "name": "stdout",
          "text": [
            "(1000, 2)\n",
            "(1000, 2)\n"
          ]
        }
      ]
    },
    {
      "cell_type": "markdown",
      "source": [
        "Stacking the 2 classes into an array with shape(2000,2)"
      ],
      "metadata": {
        "id": "OiQXaY2Nnesz"
      }
    },
    {
      "cell_type": "code",
      "source": [
        "inputs = np.vstack((negative_samples, positive_samples)).astype(np.float32)"
      ],
      "metadata": {
        "id": "1mcqZj7xnWaD"
      },
      "execution_count": 5,
      "outputs": []
    },
    {
      "cell_type": "code",
      "source": [],
      "metadata": {
        "id": "d0CWiOmWoEU8"
      },
      "execution_count": null,
      "outputs": []
    }
  ]
}