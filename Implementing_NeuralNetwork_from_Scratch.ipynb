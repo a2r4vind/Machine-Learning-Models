{
  "nbformat": 4,
  "nbformat_minor": 0,
  "metadata": {
    "colab": {
      "provenance": [],
      "authorship_tag": "ABX9TyMSogwKbXIWXMIC67PxTZxP",
      "include_colab_link": true
    },
    "kernelspec": {
      "name": "python3",
      "display_name": "Python 3"
    },
    "language_info": {
      "name": "python"
    }
  },
  "cells": [
    {
      "cell_type": "markdown",
      "metadata": {
        "id": "view-in-github",
        "colab_type": "text"
      },
      "source": [
        "<a href=\"https://colab.research.google.com/github/a2r4vind/Machine-Learning-Models/blob/main/Implementing_NeuralNetwork_from_Scratch.ipynb\" target=\"_parent\"><img src=\"https://colab.research.google.com/assets/colab-badge.svg\" alt=\"Open In Colab\"/></a>"
      ]
    },
    {
      "cell_type": "code",
      "execution_count": 1,
      "metadata": {
        "id": "uRLVLq2Fx_D8"
      },
      "outputs": [],
      "source": [
        "import tensorflow as tf"
      ]
    },
    {
      "cell_type": "code",
      "source": [
        "class NaiveDense:\n",
        "  def __init__(self, input_size, output_size, activation): # __init__ makes a constructor to create object of class\n",
        "    self.activation = activation\n",
        "\n",
        "    #creating a matrix, W, of shape (input_size, output_size), initialized with random values\n",
        "    w_shape = (input_size, output_size)\n",
        "    w_initial_value = tf.random.uniform(w_shape, minval=0, maxval= 1e-1)\n",
        "    self.W = tf.Variable(w_initial_value)\n",
        "\n",
        "    # creating a vector, b, of shape (output_size), initialized with zeros\n",
        "    b_shape = (output_size,)\n",
        "    b_initial_value = tf.zeros(b_shape)\n",
        "    self.b = tf.Variable(b_initial_value)\n",
        "\n",
        "  #Apply the forward pass.\n",
        "  def __call__(self, inputs): # __call__ makes the object of class to behave as function and object can be called as a function\n",
        "      return self.activation(tf.matmul(inputs, self.W) + self.b)\n",
        "\n",
        "  @property\n",
        "  def weights(self): # method for retrieving layer's weights\n",
        "      return [self.W, self.b]\n"
      ],
      "metadata": {
        "id": "_TPTwcrezkWx"
      },
      "execution_count": 2,
      "outputs": []
    },
    {
      "cell_type": "code",
      "source": [
        "class NaiveSequential:\n",
        "  def __init__(self, layers):\n",
        "    self.layers = layers\n",
        "\n",
        "  def __call__(self, inputs):\n",
        "    x = inputs\n",
        "    for layer in self.layers:\n",
        "      x = layer(x)\n",
        "    return x\n",
        "\n",
        "  @property\n",
        "  def weights(self):\n",
        "    weights = []\n",
        "    for layer in self.layers:\n",
        "      weights += layer.weights\n",
        "    return weights"
      ],
      "metadata": {
        "id": "Ywh82i0b1ZHg"
      },
      "execution_count": 3,
      "outputs": []
    },
    {
      "cell_type": "code",
      "source": [
        "# Creating a model\n",
        "model = NaiveSequential([\n",
        "    NaiveDense(input_size=28*28, output_size=512, activation=tf.nn.relu),\n",
        "    NaiveDense(input_size=512, output_size=10, activation=tf.nn.softmax)\n",
        "])\n",
        "assert len(model.weights) == 4"
      ],
      "metadata": {
        "id": "r-ncngBX8mGX"
      },
      "execution_count": 4,
      "outputs": []
    },
    {
      "cell_type": "code",
      "source": [
        "import math"
      ],
      "metadata": {
        "id": "nP_WSzbcADNI"
      },
      "execution_count": 5,
      "outputs": []
    },
    {
      "cell_type": "code",
      "source": [
        "class BatchGenerator:\n",
        "  def __init__(self, images, labels, batch_size=128):\n",
        "    assert len(images) == len(labels)\n",
        "    self.index = 0\n",
        "    self.images = images\n",
        "    self.labels = labels\n",
        "    self.batch_size = batch_size\n",
        "    self.num_batches = math.ceil(len(images) / batch_size)\n",
        "  def next(self):\n",
        "    images = self.images[self.index : self.index + self.batch_size]\n",
        "    labels = self.labels[self.index : self.index + self.batch_size]\n",
        "    self.index += self.batch_size\n",
        "    return images, labels"
      ],
      "metadata": {
        "id": "-lnt3EvKEYvE"
      },
      "execution_count": 6,
      "outputs": []
    },
    {
      "cell_type": "code",
      "source": [
        "# Training step\n",
        "def one_training_step(model, images_batch, labels_batch):\n",
        "  with tf.GradientTape() as tape:\n",
        "    predictions = model(images_batch)\n",
        "    per_sample_losses = tf.keras.losses.sparse_categorical_crossentropy(\n",
        "        labels_batch, predictions)\n",
        "    average_loss = tf.reduce_mean(per_sample_losses)\n",
        "  # compute the gradient of the loss with regard to the weights. The output gradients\n",
        "  # is a list where each entry corresponds to a weight from model.weights list.\n",
        "  gradients = tape.gradient(average_loss, model.weights)\n",
        "  # Update the weights using the gradients\n",
        "  update_weights(gradients, model.weights)\n",
        "  return average_loss"
      ],
      "metadata": {
        "id": "BAXr1483GEk0"
      },
      "execution_count": 7,
      "outputs": []
    },
    {
      "cell_type": "code",
      "source": [
        "learning_rate = 1e-1\n",
        "\n",
        "def update_weights(gradients, weights):\n",
        "  for g, w in zip(gradients, weights):\n",
        "    w.assign_sub(g * learning_rate)\n",
        "\n",
        "# # the above logic is made more concise using tensorflow.keras module\n",
        "# from tensorflow.keras import optimizers\n",
        "\n",
        "# optimizer = optimizers.SGD(learning_rate=1e-3)\n",
        "\n",
        "# def update_weights(gradients, weights):\n",
        "#   optimizer.apply_gradients(zip(gradients, weights))"
      ],
      "metadata": {
        "id": "P0D_zItABWxZ"
      },
      "execution_count": 10,
      "outputs": []
    },
    {
      "cell_type": "code",
      "source": [
        "# Full training loop\n",
        "\n",
        "def fit(model, images, labels, epochs, batch_size=128):\n",
        "  for epoch_counter in range(epochs):\n",
        "    print(f\"Epoch {epoch_counter}\")\n",
        "    batch_generator = BatchGenerator(images, labels)\n",
        "    for batch_counter in range(batch_generator.num_batches):\n",
        "      images_batch, labels_batch = batch_generator.next()\n",
        "      loss = one_training_step(model, images_batch, labels_batch)\n",
        "      if batch_counter % 100 == 0:\n",
        "        print(f\"loss at batch {batch_counter}: {loss:.2f}\")"
      ],
      "metadata": {
        "id": "JL-9Snw9BwPn"
      },
      "execution_count": 18,
      "outputs": []
    },
    {
      "cell_type": "code",
      "source": [
        "from tensorflow.keras.datasets import mnist\n",
        "(train_images, train_labels), (test_images, test_labels) = mnist.load_data()\n",
        "\n",
        "train_images = train_images.reshape((60000, 28*28))\n",
        "train_images = train_images.astype(\"float32\") / 255\n",
        "test_images = test_images.reshape((10000, 28 * 28))\n",
        "test_images = test_images.astype(\"float32\") / 255\n",
        "\n",
        "fit(model, train_images, train_labels, epochs=10, batch_size=128)"
      ],
      "metadata": {
        "colab": {
          "base_uri": "https://localhost:8080/"
        },
        "collapsed": true,
        "id": "JsW-zCipE7hu",
        "outputId": "54ef798f-c0d2-411b-d88f-4e4664a2cf1e"
      },
      "execution_count": 19,
      "outputs": [
        {
          "output_type": "stream",
          "name": "stdout",
          "text": [
            "Epoch 0\n",
            "loss at batch 0: 13.85\n",
            "loss at batch 100: 14.86\n",
            "loss at batch 200: 14.86\n",
            "loss at batch 300: 14.23\n",
            "loss at batch 400: 14.23\n",
            "Epoch 1\n",
            "loss at batch 0: 13.85\n",
            "loss at batch 100: 14.86\n",
            "loss at batch 200: 14.86\n",
            "loss at batch 300: 14.23\n",
            "loss at batch 400: 14.23\n",
            "Epoch 2\n",
            "loss at batch 0: 13.85\n",
            "loss at batch 100: 14.86\n",
            "loss at batch 200: 14.86\n",
            "loss at batch 300: 14.23\n",
            "loss at batch 400: 14.23\n",
            "Epoch 3\n",
            "loss at batch 0: 13.85\n",
            "loss at batch 100: 14.86\n",
            "loss at batch 200: 14.86\n",
            "loss at batch 300: 14.23\n",
            "loss at batch 400: 14.23\n",
            "Epoch 4\n",
            "loss at batch 0: 13.85\n",
            "loss at batch 100: 14.86\n",
            "loss at batch 200: 14.86\n",
            "loss at batch 300: 14.23\n",
            "loss at batch 400: 14.23\n",
            "Epoch 5\n",
            "loss at batch 0: 13.85\n",
            "loss at batch 100: 14.86\n",
            "loss at batch 200: 14.86\n",
            "loss at batch 300: 14.23\n",
            "loss at batch 400: 14.23\n",
            "Epoch 6\n",
            "loss at batch 0: 13.85\n",
            "loss at batch 100: 14.86\n",
            "loss at batch 200: 14.86\n",
            "loss at batch 300: 14.23\n",
            "loss at batch 400: 14.23\n",
            "Epoch 7\n",
            "loss at batch 0: 13.85\n",
            "loss at batch 100: 14.86\n",
            "loss at batch 200: 14.86\n",
            "loss at batch 300: 14.23\n",
            "loss at batch 400: 14.23\n",
            "Epoch 8\n",
            "loss at batch 0: 13.85\n",
            "loss at batch 100: 14.86\n",
            "loss at batch 200: 14.86\n",
            "loss at batch 300: 14.23\n",
            "loss at batch 400: 14.23\n",
            "Epoch 9\n",
            "loss at batch 0: 13.85\n",
            "loss at batch 100: 14.86\n",
            "loss at batch 200: 14.86\n",
            "loss at batch 300: 14.23\n",
            "loss at batch 400: 14.23\n"
          ]
        }
      ]
    },
    {
      "cell_type": "code",
      "source": [
        "import numpy as np\n",
        "# Evaluating the model\n",
        "\n",
        "predictions = model(test_images)\n",
        "predictions = predictions.numpy()\n",
        "predicted_labels = np.argmax(predictions, axis=1)\n",
        "matches = predicted_labels == test_labels\n",
        "print(f\"accuracy: {matches.mean():.2f}\")"
      ],
      "metadata": {
        "colab": {
          "base_uri": "https://localhost:8080/"
        },
        "id": "rOx0kjqlGTMp",
        "outputId": "7cdd10c1-9e93-4642-9c8d-65dafc28802c"
      },
      "execution_count": 20,
      "outputs": [
        {
          "output_type": "stream",
          "name": "stdout",
          "text": [
            "accuracy: 0.10\n"
          ]
        }
      ]
    },
    {
      "cell_type": "code",
      "source": [],
      "metadata": {
        "id": "S9a59uy-H99_"
      },
      "execution_count": null,
      "outputs": []
    }
  ]
}