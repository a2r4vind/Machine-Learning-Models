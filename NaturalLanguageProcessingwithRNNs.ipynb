{
  "nbformat": 4,
  "nbformat_minor": 0,
  "metadata": {
    "colab": {
      "provenance": [],
      "authorship_tag": "ABX9TyN/oB51IPmuIpefP30XFmvC",
      "include_colab_link": true
    },
    "kernelspec": {
      "name": "python3",
      "display_name": "Python 3"
    },
    "language_info": {
      "name": "python"
    }
  },
  "cells": [
    {
      "cell_type": "markdown",
      "metadata": {
        "id": "view-in-github",
        "colab_type": "text"
      },
      "source": [
        "<a href=\"https://colab.research.google.com/github/a2r4vind/Machine-Learning-Models/blob/main/NaturalLanguageProcessingwithRNNs.ipynb\" target=\"_parent\"><img src=\"https://colab.research.google.com/assets/colab-badge.svg\" alt=\"Open In Colab\"/></a>"
      ]
    },
    {
      "cell_type": "markdown",
      "source": [
        "python function that encodes a string of text into bag of words"
      ],
      "metadata": {
        "id": "fNhbL1F4ppdk"
      }
    },
    {
      "cell_type": "code",
      "execution_count": 3,
      "metadata": {
        "colab": {
          "base_uri": "https://localhost:8080/"
        },
        "id": "kCwdO2xFdN04",
        "outputId": "701b0304-6186-4b3a-e73b-1fbd4d1e40d1"
      },
      "outputs": [
        {
          "output_type": "stream",
          "name": "stdout",
          "text": [
            "Bag: {1: 2, 2: 3, 3: 3, 4: 3, 5: 1, 6: 1, 7: 1, 8: 1, 9: 1}\n",
            "Vocab: {'this': 1, 'is': 2, 'a': 3, 'test': 4, 'to': 5, 'see': 6, 'if': 7, 'will': 8, 'work': 9}\n"
          ]
        }
      ],
      "source": [
        "vocab = {} # maps word to integer representing it\n",
        "word_encoding = 1\n",
        "def bag_of_words(text):\n",
        "  global word_encoding\n",
        "\n",
        "  words = text.lower().split(\" \") # create a list of all the words in the text\n",
        "  bag = {} # stores all of the encodings and their frequency\n",
        "\n",
        "  for word in words:\n",
        "    if word in vocab:\n",
        "      encoding = vocab[word] # get encoding from vocab\n",
        "    else:\n",
        "      vocab[word] = word_encoding\n",
        "      encoding = word_encoding\n",
        "      word_encoding += 1\n",
        "\n",
        "    if encoding in bag:\n",
        "      bag[encoding] += 1\n",
        "    else:\n",
        "      bag[encoding] = 1\n",
        "\n",
        "  return bag\n",
        "\n",
        "text = \"This is a test to see if this test will work is is test a a\"\n",
        "bag = bag_of_words(text)\n",
        "print(\"Bag:\",bag)\n",
        "print(\"Vocab:\",vocab)"
      ]
    },
    {
      "cell_type": "markdown",
      "source": [
        "# Word embeddings\n",
        "--> a vectorized representation of words in a given document that places words with similar meanings near each other.\n"
      ],
      "metadata": {
        "id": "F5tK8pTrkk4Y"
      }
    },
    {
      "cell_type": "markdown",
      "source": [
        " # Recurrent Neural Network (RNN)\n",
        " --> **Processing**: exactly how human read and comprehend which is read word by word from left to right and keep track of the current meaning of the sentence so that we can understand the meaning of the next word.\n",
        "\n",
        " --> It contains a **loop**.\n",
        "\n",
        " --> Processes one word at a time.\n",
        "\n",
        " --> Maintains an internal memory of what it has already seen which allows it to treat each word differently based on their order in a sentence."
      ],
      "metadata": {
        "id": "9Q8CHFAxqRIN"
      }
    },
    {
      "cell_type": "code",
      "source": [],
      "metadata": {
        "id": "J_NoO0NisYwP"
      },
      "execution_count": null,
      "outputs": []
    }
  ]
}